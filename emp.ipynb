{
 "cells": [
  {
   "cell_type": "code",
   "execution_count": 6,
   "metadata": {},
   "outputs": [],
   "source": [
    "from faker import Faker"
   ]
  },
  {
   "cell_type": "code",
   "execution_count": 7,
   "metadata": {},
   "outputs": [],
   "source": [
    "fake = Faker()"
   ]
  },
  {
   "cell_type": "code",
   "execution_count": 8,
   "metadata": {},
   "outputs": [],
   "source": [
    "#employees dictionary \n",
    "employees = [   { \n",
    "          \"emp\" : 1,\n",
    "          'name': fake.name(),\n",
    "          'email': fake.email(),\n",
    "          'address': fake.address(),\n",
    "          'salary':10000\n",
    "        },\n",
    "        { \"emp\" : 2,\n",
    "          'name': fake.name(),\n",
    "          'email': fake.email(),\n",
    "          'address': fake.address(),\n",
    "          'salary':15000\n",
    "        },\n",
    "        { \"emp\" : 3,\n",
    "          'name': fake.name(),\n",
    "          'email': fake.email(),\n",
    "          'address': fake.address(),\n",
    "          'salary':12000\n",
    "        },\n",
    "        { \"emp\" : 4,\n",
    "          'name': fake.name(),\n",
    "          'email': fake.email(),\n",
    "          'address': fake.address(),\n",
    "          'salary':17000\n",
    "        },\n",
    "        { \"emp\" : 5,\n",
    "          'name': fake.name(),\n",
    "          'email': fake.email(),\n",
    "          'address': fake.address(),\n",
    "          'salary':19000\n",
    "        },\n",
    "        { \"emp\" : 6,\n",
    "          'name': fake.name(),\n",
    "          'email': fake.email(),\n",
    "          'address': fake.address(),\n",
    "          'salary':22000\n",
    "        },\n",
    "        { \"emp\" : 7,\n",
    "          'name': fake.name(),\n",
    "          'email': fake.email(),\n",
    "          'address': fake.address(),\n",
    "          'salary':25000\n",
    "        },\n",
    "        { \"emp\" : 8,\n",
    "          'name': fake.name(),\n",
    "          'email': fake.email(),\n",
    "          'address': fake.address(),\n",
    "          'salary':16000\n",
    "        },\n",
    "        { \"emp\" : 9,\n",
    "          'name': fake.name(),\n",
    "          'email': fake.email(),\n",
    "          'address': fake.address(),\n",
    "          'salary':20000\n",
    "        },\n",
    "        { \"emp\" : 10,\n",
    "          'name': fake.name(),\n",
    "          'email': fake.email(),\n",
    "          'address': fake.address(),\n",
    "          'salary':21000\n",
    "        }, \n",
    "    ]"
   ]
  },
  {
   "cell_type": "code",
   "execution_count": 9,
   "metadata": {},
   "outputs": [
    {
     "name": "stdout",
     "output_type": "stream",
     "text": [
      "{'emp': 10, 'name': 'Adam Murray', 'email': 'kkennedy@example.org', 'address': '906 Carmen Forge Suite 030\\nEast Kevinburgh, KY 05697', 'salary': 21000}\n"
     ]
    }
   ],
   "source": [
    "#print employee detail \n",
    "print(employees[9])"
   ]
  },
  {
   "cell_type": "code",
   "execution_count": 10,
   "metadata": {},
   "outputs": [
    {
     "name": "stdout",
     "output_type": "stream",
     "text": [
      "21000\n"
     ]
    }
   ],
   "source": [
    "#print employees detail of specific item\n",
    "print(employees[9]['salary'])"
   ]
  },
  {
   "cell_type": "code",
   "execution_count": 11,
   "metadata": {},
   "outputs": [
    {
     "name": "stdout",
     "output_type": "stream",
     "text": [
      "{'emp': 7, 'name': 'Matthew Davies', 'email': 'rachel96@example.com', 'address': 'Unit 4245 Box 4456\\nDPO AE 37583', 'salary': 25000}\n"
     ]
    }
   ],
   "source": [
    "#prin max salary in all employees\n",
    "print(max(employees,key=lambda x:x['salary']))"
   ]
  },
  {
   "cell_type": "code",
   "execution_count": 12,
   "metadata": {},
   "outputs": [
    {
     "name": "stdout",
     "output_type": "stream",
     "text": [
      "{'emp': 1, 'name': 'Brian Herman', 'email': 'brettaustin@example.com', 'address': '453 Alex Court Apt. 820\\nNew Jonathanmouth, NY 15785', 'salary': 10000}\n"
     ]
    }
   ],
   "source": [
    "#prin min salary in all employees\n",
    "print(min(employees,key=lambda x:x['salary']))"
   ]
  },
  {
   "cell_type": "code",
   "execution_count": 20,
   "metadata": {},
   "outputs": [],
   "source": [
    "#delete employee data\n",
    "for i in range(len(employees)):\n",
    "    if employees[i]['emp'] == 45:\n",
    "        del employees[i]\n",
    "        break"
   ]
  },
  {
   "cell_type": "code",
   "execution_count": 47,
   "metadata": {},
   "outputs": [
    {
     "name": "stdout",
     "output_type": "stream",
     "text": [
      "{'emp': 11, 'name': 'Kevin Nielsen', 'email': 'devinmills@example.com', 'address': '6148 Courtney Track\\nLake Alexistown, DE 94074', 'salary': 19500}\n",
      "{'emp': 12, 'name': 'William Lam', 'email': 'margaret23@example.org', 'address': '509 White Divide Suite 727\\nLake Stevenmouth, SD 64024', 'salary': 17500}\n"
     ]
    }
   ],
   "source": [
    "# add new employees details\n",
    "def new_employee():\n",
    "    for x in range(2):\n",
    "      emp_dic = { }\n",
    "      emp = int(input(\"Enter employee code : \"))\n",
    "      name = (fake.name())\n",
    "      email = (fake.email())\n",
    "      address = (fake.address())\n",
    "      salary = int(input(\"Enter employee salary : \"))\n",
    "      emp_dic[ 'emp'] = emp\n",
    "      emp_dic[ 'name'] = name\n",
    "      emp_dic[ 'email'] = email\n",
    "      emp_dic[ 'address'] = address\n",
    "      emp_dic[ 'salary'] = salary\n",
    "      print(emp_dic)\n",
    "      employees.append(emp_dic)\n",
    "new_employee()"
   ]
  },
  {
   "cell_type": "code",
   "execution_count": 48,
   "metadata": {},
   "outputs": [
    {
     "data": {
      "text/plain": [
       "[{'emp': 1,\n",
       "  'name': 'Brian Herman',\n",
       "  'email': 'brettaustin@example.com',\n",
       "  'address': '453 Alex Court Apt. 820\\nNew Jonathanmouth, NY 15785',\n",
       "  'salary': 10000},\n",
       " {'emp': 2,\n",
       "  'name': 'Louis Marshall',\n",
       "  'email': 'ufisher@example.org',\n",
       "  'address': '497 Gomez Turnpike Apt. 559\\nSouth Mark, SD 10448',\n",
       "  'salary': 15000},\n",
       " {'emp': 3,\n",
       "  'name': 'Kelli Young',\n",
       "  'email': 'normantina@example.org',\n",
       "  'address': '0110 Courtney Row Suite 606\\nMonicaborough, MS 90174',\n",
       "  'salary': 12000},\n",
       " {'emp': 4,\n",
       "  'name': 'Mary Smith',\n",
       "  'email': 'colleenwhite@example.net',\n",
       "  'address': '71342 Bobby Rest Apt. 564\\nBeasleyborough, ID 69385',\n",
       "  'salary': 17000},\n",
       " {'emp': 5,\n",
       "  'name': 'Reginald Montes',\n",
       "  'email': 'michaelbanks@example.net',\n",
       "  'address': '6169 Marc Ferry Suite 597\\nAndradeview, WA 41360',\n",
       "  'salary': 19000},\n",
       " {'emp': 6,\n",
       "  'name': 'John Douglas',\n",
       "  'email': 'michael26@example.org',\n",
       "  'address': '46443 Joshua Trail\\nGuzmantown, MN 15254',\n",
       "  'salary': 22000},\n",
       " {'emp': 7,\n",
       "  'name': 'Matthew Davies',\n",
       "  'email': 'rachel96@example.com',\n",
       "  'address': 'Unit 4245 Box 4456\\nDPO AE 37583',\n",
       "  'salary': 25000},\n",
       " {'emp': 8,\n",
       "  'name': 'Jennifer Fischer',\n",
       "  'email': 'sharpbrian@example.net',\n",
       "  'address': 'USCGC Jenkins\\nFPO AP 45955',\n",
       "  'salary': 16000},\n",
       " {'emp': 9,\n",
       "  'name': 'Mary Brandt',\n",
       "  'email': 'whiteamber@example.net',\n",
       "  'address': '25261 Fletcher Stream\\nNew Michaelstad, UT 60476',\n",
       "  'salary': 20000},\n",
       " {'emp': 10,\n",
       "  'name': 'Adam Murray',\n",
       "  'email': 'kkennedy@example.org',\n",
       "  'address': '906 Carmen Forge Suite 030\\nEast Kevinburgh, KY 05697',\n",
       "  'salary': 21000},\n",
       " {'emp': 11,\n",
       "  'name': 'Kevin Nielsen',\n",
       "  'email': 'devinmills@example.com',\n",
       "  'address': '6148 Courtney Track\\nLake Alexistown, DE 94074',\n",
       "  'salary': 19500},\n",
       " {'emp': 12,\n",
       "  'name': 'William Lam',\n",
       "  'email': 'margaret23@example.org',\n",
       "  'address': '509 White Divide Suite 727\\nLake Stevenmouth, SD 64024',\n",
       "  'salary': 17500}]"
      ]
     },
     "execution_count": 48,
     "metadata": {},
     "output_type": "execute_result"
    }
   ],
   "source": [
    "employees"
   ]
  },
  {
   "cell_type": "code",
   "execution_count": null,
   "metadata": {},
   "outputs": [],
   "source": []
  }
 ],
 "metadata": {
  "kernelspec": {
   "display_name": "Python 3.10.5 64-bit",
   "language": "python",
   "name": "python3"
  },
  "language_info": {
   "codemirror_mode": {
    "name": "ipython",
    "version": 3
   },
   "file_extension": ".py",
   "mimetype": "text/x-python",
   "name": "python",
   "nbconvert_exporter": "python",
   "pygments_lexer": "ipython3",
   "version": "3.10.5"
  },
  "orig_nbformat": 4,
  "vscode": {
   "interpreter": {
    "hash": "2fb0f3841e5ff0d6b45df99560b5a10ae433a90e6cb4745c85cd14bc82cbb445"
   }
  }
 },
 "nbformat": 4,
 "nbformat_minor": 2
}
