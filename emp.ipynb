{
 "cells": [
  {
   "cell_type": "code",
   "execution_count": 2,
   "metadata": {},
   "outputs": [],
   "source": [
    "from faker import Faker"
   ]
  },
  {
   "cell_type": "code",
   "execution_count": 3,
   "metadata": {},
   "outputs": [],
   "source": [
    "fake = Faker()"
   ]
  },
  {
   "cell_type": "code",
   "execution_count": 39,
   "metadata": {},
   "outputs": [],
   "source": [
    "#employees dictionary \n",
    "employees = [   { \n",
    "          \"emp\" : 1,\n",
    "          'name': fake.name(),\n",
    "          'email': fake.email(),\n",
    "          'address': fake.address(),\n",
    "          'salary':10000\n",
    "        },\n",
    "        { \"emp\" : 2,\n",
    "          'name': fake.name(),\n",
    "          'email': fake.email(),\n",
    "          'address': fake.address(),\n",
    "          'salary':15000\n",
    "        },\n",
    "        { \"emp\" : 3,\n",
    "          'name': fake.name(),\n",
    "          'email': fake.email(),\n",
    "          'address': fake.address(),\n",
    "          'salary':12000\n",
    "        },\n",
    "        { \"emp\" : 4,\n",
    "          'name': fake.name(),\n",
    "          'email': fake.email(),\n",
    "          'address': fake.address(),\n",
    "          'salary':17000\n",
    "        },\n",
    "        { \"emp\" : 5,\n",
    "          'name': fake.name(),\n",
    "          'email': fake.email(),\n",
    "          'address': fake.address(),\n",
    "          'salary':19000\n",
    "        },\n",
    "        { \"emp\" : 6,\n",
    "          'name': fake.name(),\n",
    "          'email': fake.email(),\n",
    "          'address': fake.address(),\n",
    "          'salary':22000\n",
    "        },\n",
    "        { \"emp\" : 7,\n",
    "          'name': fake.name(),\n",
    "          'email': fake.email(),\n",
    "          'address': fake.address(),\n",
    "          'salary':25000\n",
    "        },\n",
    "        { \"emp\" : 8,\n",
    "          'name': fake.name(),\n",
    "          'email': fake.email(),\n",
    "          'address': fake.address(),\n",
    "          'salary':16000\n",
    "        },\n",
    "        { \"emp\" : 9,\n",
    "          'name': fake.name(),\n",
    "          'email': fake.email(),\n",
    "          'address': fake.address(),\n",
    "          'salary':20000\n",
    "        },\n",
    "        { \"emp\" : 10,\n",
    "          'name': fake.name(),\n",
    "          'email': fake.email(),\n",
    "          'address': fake.address(),\n",
    "          'salary':21000\n",
    "        }, \n",
    "    ]"
   ]
  },
  {
   "cell_type": "code",
   "execution_count": 35,
   "metadata": {},
   "outputs": [
    {
     "name": "stdout",
     "output_type": "stream",
     "text": [
      "{'emp': 10, 'name': 'James Ingram', 'email': 'lindseyweber@example.com', 'address': '3323 Allison Junction\\nJesseview, NH 70322', 'salary': 21000}\n"
     ]
    }
   ],
   "source": [
    "#print employee detail \n",
    "print(employees[9])"
   ]
  },
  {
   "cell_type": "code",
   "execution_count": 36,
   "metadata": {},
   "outputs": [
    {
     "name": "stdout",
     "output_type": "stream",
     "text": [
      "21000\n"
     ]
    }
   ],
   "source": [
    "#print employees detail of specific item\n",
    "print(employees[9]['salary'])"
   ]
  },
  {
   "cell_type": "code",
   "execution_count": 34,
   "metadata": {},
   "outputs": [
    {
     "name": "stdout",
     "output_type": "stream",
     "text": [
      "{'emp': 7, 'name': 'Erika Moore', 'email': 'sabrina10@example.com', 'address': '2294 Mccoy Manors Suite 116\\nJonathanton, MI 66563', 'salary': 25000}\n"
     ]
    }
   ],
   "source": [
    "#prin max salary in all employees\n",
    "print(max(employees,key=lambda x:x['salary']))"
   ]
  },
  {
   "cell_type": "code",
   "execution_count": 37,
   "metadata": {},
   "outputs": [
    {
     "name": "stdout",
     "output_type": "stream",
     "text": [
      "{'emp': 1, 'name': 'Christina Morris', 'email': 'clinejennifer@example.net', 'address': '72226 Jessica Manor\\nWest Colleenfurt, AL 38489', 'salary': 10000}\n"
     ]
    }
   ],
   "source": [
    "#prin min salary in all employees\n",
    "print(min(employees,key=lambda x:x['salary']))"
   ]
  },
  {
   "cell_type": "code",
   "execution_count": null,
   "metadata": {},
   "outputs": [],
   "source": []
  }
 ],
 "metadata": {
  "kernelspec": {
   "display_name": "Python 3.10.5 64-bit",
   "language": "python",
   "name": "python3"
  },
  "language_info": {
   "codemirror_mode": {
    "name": "ipython",
    "version": 3
   },
   "file_extension": ".py",
   "mimetype": "text/x-python",
   "name": "python",
   "nbconvert_exporter": "python",
   "pygments_lexer": "ipython3",
   "version": "3.10.5"
  },
  "orig_nbformat": 4,
  "vscode": {
   "interpreter": {
    "hash": "2fb0f3841e5ff0d6b45df99560b5a10ae433a90e6cb4745c85cd14bc82cbb445"
   }
  }
 },
 "nbformat": 4,
 "nbformat_minor": 2
}
